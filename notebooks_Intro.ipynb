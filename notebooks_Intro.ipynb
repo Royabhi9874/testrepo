{
  "metadata": {
    "kernelspec": {
      "name": "python",
      "display_name": "Python (Pyodide)",
      "language": "python"
    },
    "language_info": {
      "codemirror_mode": {
        "name": "python",
        "version": 3
      },
      "file_extension": ".py",
      "mimetype": "text/x-python",
      "name": "python",
      "nbconvert_exporter": "python",
      "pygments_lexer": "ipython3",
      "version": "3.8"
    }
  },
  "nbformat_minor": 5,
  "nbformat": 4,
  "cells": [
    {
      "cell_type": "markdown",
      "source": "# My Jupyter Notebook.",
      "metadata": {},
      "id": "791c025a-3bf4-42f8-be1d-bab6716235d9"
    },
    {
      "cell_type": "markdown",
      "source": "<b>I am Abhijit Roy</b> and I am a Senior Admin Executive.",
      "metadata": {},
      "id": "a5eca67d-a58c-48bd-b899-d81132d1fa8d"
    },
    {
      "cell_type": "markdown",
      "source": "<i>I am interested in data science because i work with data on my daily life and this may help me to to do my work better and also open new career opportunities.</i>",
      "metadata": {},
      "id": "d09282cf-7e61-4354-a6d7-bf2f08c1cd6c"
    },
    {
      "cell_type": "markdown",
      "source": "### In cell 5 simple addition needs to be done.",
      "metadata": {},
      "id": "8d8541b8-2bfc-496d-ac15-1d0d7f31d14c"
    },
    {
      "cell_type": "markdown",
      "source": "1:1",
      "metadata": {},
      "id": "ead2ce22-b9d8-4e9d-8599-bbea37af109c"
    },
    {
      "cell_type": "markdown",
      "source": "<a> href=https://www.google.com>Link to Google</a> <table style=\"width:20%\">\n<tr>\n<th><Name></th>\n<th><Address></th>\n<th><Salary></th>\n</tr> <tr>\n<td><Hanna></td>\n<td><Brisbane></td>\n<td><4000></td>\n</tr> <tr>\n<td><Adam></td>\n<td><Sydney></td>\n<td><5000></td>\n</tr>\n</table>\n\n- name\n- address\n- salary\n- city\n",
      "metadata": {},
      "id": "8c7a591b-9249-4388-a986-1dc695ea90fc"
    }
  ]
}